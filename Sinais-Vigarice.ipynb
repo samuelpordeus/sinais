{
 "cells": [
  {
   "cell_type": "code",
   "execution_count": 16,
   "metadata": {
    "collapsed": false
   },
   "outputs": [],
   "source": [
    "from pydub import AudioSegment\n",
    "\n",
    "sound_stereo = AudioSegment.from_file(\"nirvana.mp3\", format=\"mp3\")\n",
    "\n",
    "sound_monoL = sound_stereo.split_to_mono()[0]\n",
    "sound_monoR = sound_stereo.split_to_mono()[1]\n",
    "\n",
    "sound_monoR_inv = sound_monoR.invert_phase()\n",
    "sound_CentersOut = sound_monoL.overlay(sound_monoR_inv)\n",
    "\n",
    "fh = sound_CentersOut.export(\"new_audio.mp3\", format=\"mp3\")"
   ]
  },
  {
   "cell_type": "code",
   "execution_count": null,
   "metadata": {
    "collapsed": true
   },
   "outputs": [],
   "source": []
  }
 ],
 "metadata": {
  "kernelspec": {
   "display_name": "Python 3",
   "language": "python",
   "name": "python3"
  },
  "language_info": {
   "codemirror_mode": {
    "name": "ipython",
    "version": 3
   },
   "file_extension": ".py",
   "mimetype": "text/x-python",
   "name": "python",
   "nbconvert_exporter": "python",
   "pygments_lexer": "ipython3",
   "version": "3.6.0"
  }
 },
 "nbformat": 4,
 "nbformat_minor": 2
}
